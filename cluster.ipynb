{
 "cells": [
  {
   "cell_type": "markdown",
   "source": [
    "# Классификация отзывов\n",
    "\n",
    "## Описание программы\n",
    "\n",
    "Программа предназначена для анализа и визуализации текстовых данных, используя методы машинного обучения и кластеризации. Она принимает на вход текстовые данные, преобразует их в эмбединги с помощью предобученной модели HuggingFace, а затем применяет алгоритм DBSCAN для кластеризации этих эмбедингов. После кластеризации программа генерирует суммари для каждого кластера и визуализирует результаты на графике."
   ],
   "metadata": {
    "collapsed": false
   },
   "id": "7c60d654cc94634d"
  },
  {
   "cell_type": "markdown",
   "source": [
    "## Подготовка программы\n",
    "### Установка и импорт необходимых библиотек"
   ],
   "metadata": {
    "collapsed": false
   },
   "id": "178e3dc4a02e3cfa"
  },
  {
   "cell_type": "code",
   "execution_count": null,
   "outputs": [],
   "source": [
    "!pip install -r requirements.txt"
   ],
   "metadata": {
    "collapsed": false
   },
   "id": "1eafc331e7ba3317"
  },
  {
   "cell_type": "code",
   "execution_count": 252,
   "id": "initial_id",
   "metadata": {
    "collapsed": true,
    "ExecuteTime": {
     "end_time": "2024-04-11T00:11:02.379311Z",
     "start_time": "2024-04-11T00:11:02.373524Z"
    }
   },
   "outputs": [],
   "source": [
    "import numpy as np\n",
    "from itertools import chain\n",
    "from llama_index.embeddings.huggingface import HuggingFaceEmbedding\n",
    "from tqdm import tqdm\n",
    "from sklearn.cluster import DBSCAN\n",
    "from umap import UMAP\n",
    "import plotly.express as px\n",
    "from collections import defaultdict\n",
    "import spacy"
   ]
  },
  {
   "cell_type": "markdown",
   "source": [
    "### Подготовка тестовых данных\n",
    "\n",
    "Данные представляют из себя список строк, которые потом будет кластерищировать программа.\n",
    "_Класс используется для проверки правильности работы программы._"
   ],
   "metadata": {
    "collapsed": false
   },
   "id": "b51cb992be5c3c78"
  },
  {
   "cell_type": "code",
   "execution_count": null,
   "outputs": [],
   "source": [
    "init_data = {\n",
    "    '+ drawings': ['Interesting jacket colors.', 'Beautiful drawings.',\n",
    "                   'Cool coloring, I\\'ll buy this clothes.', 'I liked the various drawings on the T-shirt.',\n",
    "                   'The prints are testable.', 'colorful colors.'],\n",
    "    '- battery': ['The battery is bad, it does not keep the day.', 'The charge does not hold.',\n",
    "                  'Low-capacity battery, not enough.'],\n",
    "    '+ screen': ['The screen is very bright, convenient to read.', 'very bright screen!',\n",
    "                 'The screen is very bright, good for the eyes.'],\n",
    "    '- fabric': ['The fabric is very bad, I didn\\'t like it.', 'Low quality materials, not suitable.',\n",
    "                 'The fabric was worn out on the 2nd day.']\n",
    "}\n",
    "\n",
    "data = list(chain(*init_data.values()))"
   ],
   "metadata": {
    "collapsed": false
   },
   "id": "906762bd926b832a"
  },
  {
   "cell_type": "markdown",
   "source": [
    "## Создание эмбедингов \n",
    "Этот блок кода отвечает за преобразование входных текстовых данных в числовые эмбединги. Для этого используется предобученная модель HuggingFace, которая преобразует текст в векторное представление. Эмбединги затем используются для дальнейшего анализа."
   ],
   "metadata": {
    "collapsed": false
   },
   "id": "ad65c758dd97820a"
  },
  {
   "cell_type": "code",
   "execution_count": 253,
   "outputs": [
    {
     "name": "stderr",
     "output_type": "stream",
     "text": [
      "100%|██████████| 15/15 [00:00<00:00, 17.36it/s]"
     ]
    },
    {
     "name": "stdout",
     "output_type": "stream",
     "text": [
      "Got dataset with 15 items with 768 dimensional measurement\n"
     ]
    },
    {
     "name": "stderr",
     "output_type": "stream",
     "text": [
      "\n"
     ]
    }
   ],
   "source": [
    "def create_embeddings(data: list[str]) -> np.array:\n",
    "    \"\"\"\n",
    "    Создание эмбедингов для данных.\n",
    "    \n",
    "    :param data: Список строк данных.\n",
    "    :return: Массив эмбедингов.\n",
    "    \"\"\"\n",
    "    model = HuggingFaceEmbedding('BAAI/bge-base-en-v1.5')\n",
    "    embeddings = np.array([np.array(model.get_text_embedding(item)) for item in tqdm(data)])\n",
    "    print(f'Got dataset with {len(embeddings)} items with {len(embeddings[0])} dimensional measurement')\n",
    "    return embeddings\n",
    "\n",
    "\n",
    "embeddings = create_embeddings(data)"
   ],
   "metadata": {
    "collapsed": false,
    "ExecuteTime": {
     "end_time": "2024-04-11T00:28:22.089671Z",
     "start_time": "2024-04-11T00:28:14.852552Z"
    }
   },
   "id": "ae68c9922c566fc2"
  },
  {
   "cell_type": "markdown",
   "source": [
    "## Проекция и кластеризация\n",
    "Для правильной обработки данных их нужно отобразить на 2х или 3х мерной плоскости и объединить ближайшие.\n",
    "\n",
    "### Проекция эмбедингов\n",
    "После создания эмбедингов, этот блок кода применяет алгоритм UMAP для создания проекции эмбедингов в двухмерное пространство. Это позволяет визуализировать данные на графике. Параметр `n_components` задает пространство на которое проецируется вектор."
   ],
   "metadata": {
    "collapsed": false
   },
   "id": "d898bd1bb2239288"
  },
  {
   "cell_type": "code",
   "execution_count": null,
   "outputs": [],
   "source": [
    "def create_projection(embeddings: np.array, n_components: int = 2) -> np.array:\n",
    "    \"\"\"\n",
    "    Создание проекции эмбедингов.\n",
    "    \n",
    "    :param embeddings: Массив эмбедингов.\n",
    "    :param n_components: Количество компонентов для проекции.\n",
    "    :return: Проекция эмбедингов.\n",
    "    \"\"\"\n",
    "    tsne = UMAP(n_components=n_components)\n",
    "    return tsne.fit_transform(embeddings)\n",
    "\n",
    "\n",
    "projection = create_projection(embeddings)"
   ],
   "metadata": {
    "collapsed": false
   },
   "id": "b93af315329e444b"
  },
  {
   "cell_type": "markdown",
   "source": [
    "### Создание кластеров\n",
    "\n",
    "Этот блок кода использует алгоритм DBSCAN для кластеризации проекций эмбедингов. Параметры `eps` и `min_samples` позволяют настроить поведение алгоритма кластеризации."
   ],
   "metadata": {
    "collapsed": false
   },
   "id": "a7855b0c15c4eb72"
  },
  {
   "cell_type": "code",
   "execution_count": null,
   "outputs": [],
   "source": [
    "def create_clusters(projection: np.array, eps: float = 0.65, min_samples: int = 3) -> DBSCAN:\n",
    "    \"\"\"\n",
    "    Создание кластеров на основе проекции.\n",
    "    \n",
    "    :param projection: Проекция эмбедингов.\n",
    "    :param eps: Параметр eps для DBSCAN.\n",
    "    :param min_samples: Параметр min_samples для DBSCAN.\n",
    "    :return: Объект DBSCAN с кластерами.\n",
    "    \"\"\"\n",
    "    dbscan = DBSCAN(eps=eps, min_samples=min_samples)\n",
    "    return dbscan.fit(projection)\n",
    "\n",
    "\n",
    "clusters = create_clusters(projection, 0.75)"
   ],
   "metadata": {
    "collapsed": false
   },
   "id": "4f13f00bc21a4030"
  },
  {
   "cell_type": "markdown",
   "source": [
    "### Подготовка данных для кластеров\n",
    "Этот блок кода группирует текстовые данные по меткам кластеров, полученным от DBSCAN. Это позволяет организовать данные для дальнейшего анализа и визуализации."
   ],
   "metadata": {
    "collapsed": false
   },
   "id": "cb059a2b53bb6d46"
  },
  {
   "cell_type": "code",
   "execution_count": 216,
   "outputs": [
    {
     "name": "stdout",
     "output_type": "stream",
     "text": [
      "\u001B[94mCluster[0]: + drawings\u001B[0m\n",
      " 0 | Interesting jacket colors.\n",
      " 0 | Beautiful drawings.\n",
      " 0 | Cool coloring, I'll buy this clothes.\n",
      " 0 | I liked the various drawings on the T-shirt.\n",
      " 0 | The prints are testable.\n",
      " 0 | colorful colors.\n",
      "\u001B[94mCluster[1]: - battery\u001B[0m\n",
      " 1 | The battery is bad, it does not keep the day.\n",
      " 1 | The charge does not hold.\n",
      " 1 | Low-capacity battery, not enough.\n",
      "\u001B[94mCluster[2]: + screen\u001B[0m\n",
      " 2 | The screen is very bright, convenient to read.\n",
      " 2 | very bright screen!\n",
      " 2 | The screen is very bright, good for the eyes.\n",
      "\u001B[94mCluster[3]: - fabric\u001B[0m\n",
      " 3 | The fabric is very bad, I didn't like it.\n",
      " 3 | Low quality materials, not suitable.\n",
      " 3 | The fabric was worn out on the 2nd day.\n"
     ]
    }
   ],
   "source": [
    "def set_data_for_clusters(clusters: DBSCAN, debug: bool =False) -> dict[int, list[str]]:\n",
    "    \"\"\"\n",
    "    Группирует текстовые данные по меткам кластеров, полученным от DBSCAN.\n",
    "    \n",
    "    :param clusters: Объект DBSCAN с кластерами.\n",
    "    :param debug: Флаг для включения/выключения вывода отладочной информации.\n",
    "    :return: Словарь, где ключи - метки кластеров, а значения - списки текстовых данных, принадлежащих соответствующему кластеру.\n",
    "    \"\"\"\n",
    "    labels = iter(clusters.labels_)\n",
    "    clusters_dataset = defaultdict(list)\n",
    "    for index, (key, value) in enumerate(init_data.items()):\n",
    "        if debug: print(f'\\033[94mCluster[{index}]: {key}\\033[0m')\n",
    "        for item in value:\n",
    "            label = next(labels)\n",
    "            clusters_dataset[label].append(item)\n",
    "            if debug: print(f'{label:>2} | {item}')\n",
    "    return clusters_dataset\n",
    "\n",
    "\n",
    "clustered_data = set_data_for_clusters(clusters, debug=False)"
   ],
   "metadata": {
    "collapsed": false,
    "ExecuteTime": {
     "end_time": "2024-04-10T23:51:37.435257Z",
     "start_time": "2024-04-10T23:51:37.397248Z"
    }
   },
   "id": "576ce3e73e8f389c"
  },
  {
   "cell_type": "markdown",
   "source": [
    "### Генерация суммариев для кластеров\n",
    "Этот блок кода генерирует суммари для каждого кластера, используя ключевые слова из текстовых данных. Это позволяет получить краткое описание каждого кластера."
   ],
   "metadata": {
    "collapsed": false
   },
   "id": "8f16f730e06aa501"
  },
  {
   "cell_type": "code",
   "execution_count": 234,
   "outputs": [
    {
     "name": "stderr",
     "output_type": "stream",
     "text": [
      "100%|██████████| 4/4 [00:00<00:00, 68.27it/s]\n"
     ]
    }
   ],
   "source": [
    "def summery_cluster(clusters_dataset: dict[int, list[str]], words:int =2) -> list[str]:\n",
    "    \"\"\"\n",
    "    Генерирует список заголовков для каждого кластера, используя ключевые слова из текстовых данных.\n",
    "    \n",
    "    :param clusters_dataset: Словарь, где ключи - метки кластеров, а значения - списки текстовых данных, принадлежащих соответствующему кластеру.\n",
    "    :param words: Количество ключевых слов, которые будут использоваться для создания заголовков.\n",
    "    :return: Список заголовков для каждого кластера.\n",
    "    \"\"\"\n",
    "    nlp = spacy.load(\"en_core_web_sm\")\n",
    "    summery_list = []\n",
    "    for key, values in tqdm(clusters_dataset.items()):\n",
    "        doc = nlp(' '.join(values))\n",
    "        keywords = [token.text for token in doc if token.is_stop == False][:words]\n",
    "        summery = ' '.join(keywords).strip()\n",
    "        summery_list += [summery] * len(values)\n",
    "    return summery_list\n",
    "\n",
    "\n",
    "clusters_summery = summery_cluster(clustered_data)"
   ],
   "metadata": {
    "collapsed": false,
    "ExecuteTime": {
     "end_time": "2024-04-10T23:59:50.016878Z",
     "start_time": "2024-04-10T23:59:49.296422Z"
    }
   },
   "id": "930ab8367ed27381"
  },
  {
   "cell_type": "markdown",
   "source": [
    "## Визуализация кластеров\n",
    "### Создание графика\n",
    "После кластеризации и генерации суммариев, этот блок кода создает визуализацию кластеров на графике. Каждый кластер окрашен в разные цвета, а при наведении на точку отображается соответствующий суммарий."
   ],
   "metadata": {
    "collapsed": false
   },
   "id": "c4dfcfd057325efc"
  },
  {
   "cell_type": "code",
   "execution_count": 246,
   "outputs": [
    {
     "data": {
      "application/vnd.plotly.v1+json": {
       "data": [
        {
         "customdata": [
          [
           "Interesting jacket colors."
          ],
          [
           "Beautiful drawings."
          ],
          [
           "Cool coloring, I'll buy this clothes."
          ],
          [
           "I liked the various drawings on the T-shirt."
          ],
          [
           "The prints are testable."
          ],
          [
           "colorful colors."
          ]
         ],
         "hovertemplate": "Clusters=(1, 'Interesting jacket')<br>0=%{x}<br>1=%{y}<br>text=%{customdata[0]}<extra></extra>",
         "legendgroup": "(1, 'Interesting jacket')",
         "marker": {
          "color": "#636EFA",
          "symbol": "circle"
         },
         "mode": "markers",
         "name": "(1, 'Interesting jacket')",
         "orientation": "v",
         "showlegend": true,
         "x": [
          5.46876335144043,
          6.197550296783447,
          5.913163661956787,
          6.606362342834473,
          5.8914055824279785,
          5.378495216369629
         ],
         "xaxis": "x",
         "y": [
          1.9543074369430542,
          2.257585048675537,
          2.9802157878875732,
          2.8735697269439697,
          1.480835199356079,
          2.4991137981414795
         ],
         "yaxis": "y",
         "type": "scatter"
        },
        {
         "alignmentgroup": "True",
         "customdata": [
          [
           "Interesting jacket colors."
          ],
          [
           "Beautiful drawings."
          ],
          [
           "Cool coloring, I'll buy this clothes."
          ],
          [
           "I liked the various drawings on the T-shirt."
          ],
          [
           "The prints are testable."
          ],
          [
           "colorful colors."
          ]
         ],
         "hovertemplate": "Clusters=(1, 'Interesting jacket')<br>0=%{x}<br>text=%{customdata[0]}<extra></extra>",
         "legendgroup": "(1, 'Interesting jacket')",
         "marker": {
          "color": "#636EFA",
          "symbol": "circle"
         },
         "name": "(1, 'Interesting jacket')",
         "offsetgroup": "(1, 'Interesting jacket')",
         "scalegroup": "x",
         "showlegend": false,
         "x": [
          5.46876335144043,
          6.197550296783447,
          5.913163661956787,
          6.606362342834473,
          5.8914055824279785,
          5.378495216369629
         ],
         "xaxis": "x3",
         "yaxis": "y3",
         "type": "violin"
        },
        {
         "alignmentgroup": "True",
         "customdata": [
          [
           "Interesting jacket colors."
          ],
          [
           "Beautiful drawings."
          ],
          [
           "Cool coloring, I'll buy this clothes."
          ],
          [
           "I liked the various drawings on the T-shirt."
          ],
          [
           "The prints are testable."
          ],
          [
           "colorful colors."
          ]
         ],
         "hovertemplate": "Clusters=(1, 'Interesting jacket')<br>1=%{y}<br>text=%{customdata[0]}<extra></extra>",
         "legendgroup": "(1, 'Interesting jacket')",
         "marker": {
          "color": "#636EFA",
          "symbol": "circle"
         },
         "name": "(1, 'Interesting jacket')",
         "offsetgroup": "(1, 'Interesting jacket')",
         "scalegroup": "y",
         "showlegend": false,
         "xaxis": "x2",
         "y": [
          1.9543074369430542,
          2.257585048675537,
          2.9802157878875732,
          2.8735697269439697,
          1.480835199356079,
          2.4991137981414795
         ],
         "yaxis": "y2",
         "type": "violin"
        },
        {
         "hovertemplate": "<b>OLS trendline</b><br>1 = 0.431975 * 0 + -0.211726<br>R<sup>2</sup>=0.120864<br><br>Clusters=(1, 'Interesting jacket')<br>0=%{x}<br>1=%{y} <b>(trend)</b><extra></extra>",
         "legendgroup": "(1, 'Interesting jacket')",
         "marker": {
          "color": "#636EFA",
          "symbol": "circle"
         },
         "mode": "lines",
         "name": "(1, 'Interesting jacket')",
         "showlegend": false,
         "x": [
          5.378495216369629,
          5.46876335144043,
          5.8914055824279785,
          5.913163661956787,
          6.197550296783447,
          6.606362342834473
         ],
         "xaxis": "x",
         "y": [
          2.111647867604568,
          2.1506414207967235,
          2.333212184027162,
          2.3426111245370143,
          2.465458964071462,
          2.64205543691076
         ],
         "yaxis": "y",
         "type": "scatter"
        },
        {
         "customdata": [
          [
           "The battery is bad, it does not keep the day."
          ],
          [
           "The charge does not hold."
          ],
          [
           "Low-capacity battery, not enough."
          ]
         ],
         "hovertemplate": "Clusters=(2, 'battery bad')<br>0=%{x}<br>1=%{y}<br>text=%{customdata[0]}<extra></extra>",
         "legendgroup": "(2, 'battery bad')",
         "marker": {
          "color": "#EF553B",
          "symbol": "circle"
         },
         "mode": "markers",
         "name": "(2, 'battery bad')",
         "orientation": "v",
         "showlegend": true,
         "x": [
          7.081514358520508,
          7.601170063018799,
          7.976958751678467
         ],
         "xaxis": "x",
         "y": [
          0.6479631066322327,
          0.8955583572387695,
          0.4604176878929138
         ],
         "yaxis": "y",
         "type": "scatter"
        },
        {
         "alignmentgroup": "True",
         "customdata": [
          [
           "The battery is bad, it does not keep the day."
          ],
          [
           "The charge does not hold."
          ],
          [
           "Low-capacity battery, not enough."
          ]
         ],
         "hovertemplate": "Clusters=(2, 'battery bad')<br>0=%{x}<br>text=%{customdata[0]}<extra></extra>",
         "legendgroup": "(2, 'battery bad')",
         "marker": {
          "color": "#EF553B",
          "symbol": "circle"
         },
         "name": "(2, 'battery bad')",
         "offsetgroup": "(2, 'battery bad')",
         "scalegroup": "x",
         "showlegend": false,
         "x": [
          7.081514358520508,
          7.601170063018799,
          7.976958751678467
         ],
         "xaxis": "x3",
         "yaxis": "y3",
         "type": "violin"
        },
        {
         "alignmentgroup": "True",
         "customdata": [
          [
           "The battery is bad, it does not keep the day."
          ],
          [
           "The charge does not hold."
          ],
          [
           "Low-capacity battery, not enough."
          ]
         ],
         "hovertemplate": "Clusters=(2, 'battery bad')<br>1=%{y}<br>text=%{customdata[0]}<extra></extra>",
         "legendgroup": "(2, 'battery bad')",
         "marker": {
          "color": "#EF553B",
          "symbol": "circle"
         },
         "name": "(2, 'battery bad')",
         "offsetgroup": "(2, 'battery bad')",
         "scalegroup": "y",
         "showlegend": false,
         "xaxis": "x2",
         "y": [
          0.6479631066322327,
          0.8955583572387695,
          0.4604176878929138
         ],
         "yaxis": "y2",
         "type": "violin"
        },
        {
         "hovertemplate": "<b>OLS trendline</b><br>1 = -0.167172 * 0 + 1.93067<br>R<sup>2</sup>=0.118609<br><br>Clusters=(2, 'battery bad')<br>0=%{x}<br>1=%{y} <b>(trend)</b><extra></extra>",
         "legendgroup": "(2, 'battery bad')",
         "marker": {
          "color": "#EF553B",
          "symbol": "circle"
         },
         "mode": "lines",
         "name": "(2, 'battery bad')",
         "showlegend": false,
         "x": [
          7.081514358520508,
          7.601170063018799,
          7.976958751678467
         ],
         "xaxis": "x",
         "y": [
          0.7468348196276435,
          0.6599628651034424,
          0.5971414670328296
         ],
         "yaxis": "y",
         "type": "scatter"
        },
        {
         "customdata": [
          [
           "The screen is very bright, convenient to read."
          ],
          [
           "very bright screen!"
          ],
          [
           "The screen is very bright, good for the eyes."
          ]
         ],
         "hovertemplate": "Clusters=(3, 'screen bright')<br>0=%{x}<br>1=%{y}<br>text=%{customdata[0]}<extra></extra>",
         "legendgroup": "(3, 'screen bright')",
         "marker": {
          "color": "#00CC96",
          "symbol": "circle"
         },
         "mode": "markers",
         "name": "(3, 'screen bright')",
         "orientation": "v",
         "showlegend": true,
         "x": [
          7.469303131103516,
          6.924661159515381,
          6.75410270690918
         ],
         "xaxis": "x",
         "y": [
          1.909942865371704,
          2.0375876426696777,
          1.4533615112304688
         ],
         "yaxis": "y",
         "type": "scatter"
        },
        {
         "alignmentgroup": "True",
         "customdata": [
          [
           "The screen is very bright, convenient to read."
          ],
          [
           "very bright screen!"
          ],
          [
           "The screen is very bright, good for the eyes."
          ]
         ],
         "hovertemplate": "Clusters=(3, 'screen bright')<br>0=%{x}<br>text=%{customdata[0]}<extra></extra>",
         "legendgroup": "(3, 'screen bright')",
         "marker": {
          "color": "#00CC96",
          "symbol": "circle"
         },
         "name": "(3, 'screen bright')",
         "offsetgroup": "(3, 'screen bright')",
         "scalegroup": "x",
         "showlegend": false,
         "x": [
          7.469303131103516,
          6.924661159515381,
          6.75410270690918
         ],
         "xaxis": "x3",
         "yaxis": "y3",
         "type": "violin"
        },
        {
         "alignmentgroup": "True",
         "customdata": [
          [
           "The screen is very bright, convenient to read."
          ],
          [
           "very bright screen!"
          ],
          [
           "The screen is very bright, good for the eyes."
          ]
         ],
         "hovertemplate": "Clusters=(3, 'screen bright')<br>1=%{y}<br>text=%{customdata[0]}<extra></extra>",
         "legendgroup": "(3, 'screen bright')",
         "marker": {
          "color": "#00CC96",
          "symbol": "circle"
         },
         "name": "(3, 'screen bright')",
         "offsetgroup": "(3, 'screen bright')",
         "scalegroup": "y",
         "showlegend": false,
         "xaxis": "x2",
         "y": [
          1.909942865371704,
          2.0375876426696777,
          1.4533615112304688
         ],
         "yaxis": "y2",
         "type": "violin"
        },
        {
         "hovertemplate": "<b>OLS trendline</b><br>1 = 0.42601 * 0 + -1.2028<br>R<sup>2</sup>=0.268417<br><br>Clusters=(3, 'screen bright')<br>0=%{x}<br>1=%{y} <b>(trend)</b><extra></extra>",
         "legendgroup": "(3, 'screen bright')",
         "marker": {
          "color": "#00CC96",
          "symbol": "circle"
         },
         "mode": "lines",
         "name": "(3, 'screen bright')",
         "showlegend": false,
         "x": [
          6.75410270690918,
          6.924661159515381,
          7.469303131103516
         ],
         "xaxis": "x",
         "y": [
          1.6745166375748062,
          1.7471762377002533,
          1.9791991439967787
         ],
         "yaxis": "y",
         "type": "scatter"
        },
        {
         "customdata": [
          [
           "The fabric is very bad, I didn't like it."
          ],
          [
           "Low quality materials, not suitable."
          ],
          [
           "The fabric was worn out on the 2nd day."
          ]
         ],
         "hovertemplate": "Clusters=(4, 'fabric bad')<br>0=%{x}<br>1=%{y}<br>text=%{customdata[0]}<extra></extra>",
         "legendgroup": "(4, 'fabric bad')",
         "marker": {
          "color": "#AB63FA",
          "symbol": "circle"
         },
         "mode": "markers",
         "name": "(4, 'fabric bad')",
         "orientation": "v",
         "showlegend": true,
         "x": [
          6.445352554321289,
          7.198121547698975,
          6.5724687576293945
         ],
         "xaxis": "x",
         "y": [
          0.10997551679611206,
          -0.12813608348369598,
          -0.4194413721561432
         ],
         "yaxis": "y",
         "type": "scatter"
        },
        {
         "alignmentgroup": "True",
         "customdata": [
          [
           "The fabric is very bad, I didn't like it."
          ],
          [
           "Low quality materials, not suitable."
          ],
          [
           "The fabric was worn out on the 2nd day."
          ]
         ],
         "hovertemplate": "Clusters=(4, 'fabric bad')<br>0=%{x}<br>text=%{customdata[0]}<extra></extra>",
         "legendgroup": "(4, 'fabric bad')",
         "marker": {
          "color": "#AB63FA",
          "symbol": "circle"
         },
         "name": "(4, 'fabric bad')",
         "offsetgroup": "(4, 'fabric bad')",
         "scalegroup": "x",
         "showlegend": false,
         "x": [
          6.445352554321289,
          7.198121547698975,
          6.5724687576293945
         ],
         "xaxis": "x3",
         "yaxis": "y3",
         "type": "violin"
        },
        {
         "alignmentgroup": "True",
         "customdata": [
          [
           "The fabric is very bad, I didn't like it."
          ],
          [
           "Low quality materials, not suitable."
          ],
          [
           "The fabric was worn out on the 2nd day."
          ]
         ],
         "hovertemplate": "Clusters=(4, 'fabric bad')<br>1=%{y}<br>text=%{customdata[0]}<extra></extra>",
         "legendgroup": "(4, 'fabric bad')",
         "marker": {
          "color": "#AB63FA",
          "symbol": "circle"
         },
         "name": "(4, 'fabric bad')",
         "offsetgroup": "(4, 'fabric bad')",
         "scalegroup": "y",
         "showlegend": false,
         "xaxis": "x2",
         "y": [
          0.10997551679611206,
          -0.12813608348369598,
          -0.4194413721561432
         ],
         "yaxis": "y2",
         "type": "violin"
        },
        {
         "hovertemplate": "<b>OLS trendline</b><br>1 = -0.0659829 * 0 + 0.298768<br>R<sup>2</sup>=0.010055<br><br>Clusters=(4, 'fabric bad')<br>0=%{x}<br>1=%{y} <b>(trend)</b><extra></extra>",
         "legendgroup": "(4, 'fabric bad')",
         "marker": {
          "color": "#AB63FA",
          "symbol": "circle"
         },
         "mode": "lines",
         "name": "(4, 'fabric bad')",
         "showlegend": false,
         "x": [
          6.445352554321289,
          6.5724687576293945,
          7.198121547698975
         ],
         "xaxis": "x",
         "y": [
          -0.12651486746133994,
          -0.1349023573438122,
          -0.17618471403857466
         ],
         "yaxis": "y",
         "type": "scatter"
        }
       ],
       "layout": {
        "template": {
         "data": {
          "histogram2dcontour": [
           {
            "type": "histogram2dcontour",
            "colorbar": {
             "outlinewidth": 0,
             "ticks": ""
            },
            "colorscale": [
             [
              0.0,
              "#0d0887"
             ],
             [
              0.1111111111111111,
              "#46039f"
             ],
             [
              0.2222222222222222,
              "#7201a8"
             ],
             [
              0.3333333333333333,
              "#9c179e"
             ],
             [
              0.4444444444444444,
              "#bd3786"
             ],
             [
              0.5555555555555556,
              "#d8576b"
             ],
             [
              0.6666666666666666,
              "#ed7953"
             ],
             [
              0.7777777777777778,
              "#fb9f3a"
             ],
             [
              0.8888888888888888,
              "#fdca26"
             ],
             [
              1.0,
              "#f0f921"
             ]
            ]
           }
          ],
          "choropleth": [
           {
            "type": "choropleth",
            "colorbar": {
             "outlinewidth": 0,
             "ticks": ""
            }
           }
          ],
          "histogram2d": [
           {
            "type": "histogram2d",
            "colorbar": {
             "outlinewidth": 0,
             "ticks": ""
            },
            "colorscale": [
             [
              0.0,
              "#0d0887"
             ],
             [
              0.1111111111111111,
              "#46039f"
             ],
             [
              0.2222222222222222,
              "#7201a8"
             ],
             [
              0.3333333333333333,
              "#9c179e"
             ],
             [
              0.4444444444444444,
              "#bd3786"
             ],
             [
              0.5555555555555556,
              "#d8576b"
             ],
             [
              0.6666666666666666,
              "#ed7953"
             ],
             [
              0.7777777777777778,
              "#fb9f3a"
             ],
             [
              0.8888888888888888,
              "#fdca26"
             ],
             [
              1.0,
              "#f0f921"
             ]
            ]
           }
          ],
          "heatmap": [
           {
            "type": "heatmap",
            "colorbar": {
             "outlinewidth": 0,
             "ticks": ""
            },
            "colorscale": [
             [
              0.0,
              "#0d0887"
             ],
             [
              0.1111111111111111,
              "#46039f"
             ],
             [
              0.2222222222222222,
              "#7201a8"
             ],
             [
              0.3333333333333333,
              "#9c179e"
             ],
             [
              0.4444444444444444,
              "#bd3786"
             ],
             [
              0.5555555555555556,
              "#d8576b"
             ],
             [
              0.6666666666666666,
              "#ed7953"
             ],
             [
              0.7777777777777778,
              "#fb9f3a"
             ],
             [
              0.8888888888888888,
              "#fdca26"
             ],
             [
              1.0,
              "#f0f921"
             ]
            ]
           }
          ],
          "heatmapgl": [
           {
            "type": "heatmapgl",
            "colorbar": {
             "outlinewidth": 0,
             "ticks": ""
            },
            "colorscale": [
             [
              0.0,
              "#0d0887"
             ],
             [
              0.1111111111111111,
              "#46039f"
             ],
             [
              0.2222222222222222,
              "#7201a8"
             ],
             [
              0.3333333333333333,
              "#9c179e"
             ],
             [
              0.4444444444444444,
              "#bd3786"
             ],
             [
              0.5555555555555556,
              "#d8576b"
             ],
             [
              0.6666666666666666,
              "#ed7953"
             ],
             [
              0.7777777777777778,
              "#fb9f3a"
             ],
             [
              0.8888888888888888,
              "#fdca26"
             ],
             [
              1.0,
              "#f0f921"
             ]
            ]
           }
          ],
          "contourcarpet": [
           {
            "type": "contourcarpet",
            "colorbar": {
             "outlinewidth": 0,
             "ticks": ""
            }
           }
          ],
          "contour": [
           {
            "type": "contour",
            "colorbar": {
             "outlinewidth": 0,
             "ticks": ""
            },
            "colorscale": [
             [
              0.0,
              "#0d0887"
             ],
             [
              0.1111111111111111,
              "#46039f"
             ],
             [
              0.2222222222222222,
              "#7201a8"
             ],
             [
              0.3333333333333333,
              "#9c179e"
             ],
             [
              0.4444444444444444,
              "#bd3786"
             ],
             [
              0.5555555555555556,
              "#d8576b"
             ],
             [
              0.6666666666666666,
              "#ed7953"
             ],
             [
              0.7777777777777778,
              "#fb9f3a"
             ],
             [
              0.8888888888888888,
              "#fdca26"
             ],
             [
              1.0,
              "#f0f921"
             ]
            ]
           }
          ],
          "surface": [
           {
            "type": "surface",
            "colorbar": {
             "outlinewidth": 0,
             "ticks": ""
            },
            "colorscale": [
             [
              0.0,
              "#0d0887"
             ],
             [
              0.1111111111111111,
              "#46039f"
             ],
             [
              0.2222222222222222,
              "#7201a8"
             ],
             [
              0.3333333333333333,
              "#9c179e"
             ],
             [
              0.4444444444444444,
              "#bd3786"
             ],
             [
              0.5555555555555556,
              "#d8576b"
             ],
             [
              0.6666666666666666,
              "#ed7953"
             ],
             [
              0.7777777777777778,
              "#fb9f3a"
             ],
             [
              0.8888888888888888,
              "#fdca26"
             ],
             [
              1.0,
              "#f0f921"
             ]
            ]
           }
          ],
          "mesh3d": [
           {
            "type": "mesh3d",
            "colorbar": {
             "outlinewidth": 0,
             "ticks": ""
            }
           }
          ],
          "scatter": [
           {
            "marker": {
             "line": {
              "color": "#283442"
             }
            },
            "type": "scatter"
           }
          ],
          "parcoords": [
           {
            "type": "parcoords",
            "line": {
             "colorbar": {
              "outlinewidth": 0,
              "ticks": ""
             }
            }
           }
          ],
          "scatterpolargl": [
           {
            "type": "scatterpolargl",
            "marker": {
             "colorbar": {
              "outlinewidth": 0,
              "ticks": ""
             }
            }
           }
          ],
          "bar": [
           {
            "error_x": {
             "color": "#f2f5fa"
            },
            "error_y": {
             "color": "#f2f5fa"
            },
            "marker": {
             "line": {
              "color": "rgb(17,17,17)",
              "width": 0.5
             },
             "pattern": {
              "fillmode": "overlay",
              "size": 10,
              "solidity": 0.2
             }
            },
            "type": "bar"
           }
          ],
          "scattergeo": [
           {
            "type": "scattergeo",
            "marker": {
             "colorbar": {
              "outlinewidth": 0,
              "ticks": ""
             }
            }
           }
          ],
          "scatterpolar": [
           {
            "type": "scatterpolar",
            "marker": {
             "colorbar": {
              "outlinewidth": 0,
              "ticks": ""
             }
            }
           }
          ],
          "histogram": [
           {
            "marker": {
             "pattern": {
              "fillmode": "overlay",
              "size": 10,
              "solidity": 0.2
             }
            },
            "type": "histogram"
           }
          ],
          "scattergl": [
           {
            "marker": {
             "line": {
              "color": "#283442"
             }
            },
            "type": "scattergl"
           }
          ],
          "scatter3d": [
           {
            "type": "scatter3d",
            "line": {
             "colorbar": {
              "outlinewidth": 0,
              "ticks": ""
             }
            },
            "marker": {
             "colorbar": {
              "outlinewidth": 0,
              "ticks": ""
             }
            }
           }
          ],
          "scattermapbox": [
           {
            "type": "scattermapbox",
            "marker": {
             "colorbar": {
              "outlinewidth": 0,
              "ticks": ""
             }
            }
           }
          ],
          "scatterternary": [
           {
            "type": "scatterternary",
            "marker": {
             "colorbar": {
              "outlinewidth": 0,
              "ticks": ""
             }
            }
           }
          ],
          "scattercarpet": [
           {
            "type": "scattercarpet",
            "marker": {
             "colorbar": {
              "outlinewidth": 0,
              "ticks": ""
             }
            }
           }
          ],
          "carpet": [
           {
            "aaxis": {
             "endlinecolor": "#A2B1C6",
             "gridcolor": "#506784",
             "linecolor": "#506784",
             "minorgridcolor": "#506784",
             "startlinecolor": "#A2B1C6"
            },
            "baxis": {
             "endlinecolor": "#A2B1C6",
             "gridcolor": "#506784",
             "linecolor": "#506784",
             "minorgridcolor": "#506784",
             "startlinecolor": "#A2B1C6"
            },
            "type": "carpet"
           }
          ],
          "table": [
           {
            "cells": {
             "fill": {
              "color": "#506784"
             },
             "line": {
              "color": "rgb(17,17,17)"
             }
            },
            "header": {
             "fill": {
              "color": "#2a3f5f"
             },
             "line": {
              "color": "rgb(17,17,17)"
             }
            },
            "type": "table"
           }
          ],
          "barpolar": [
           {
            "marker": {
             "line": {
              "color": "rgb(17,17,17)",
              "width": 0.5
             },
             "pattern": {
              "fillmode": "overlay",
              "size": 10,
              "solidity": 0.2
             }
            },
            "type": "barpolar"
           }
          ],
          "pie": [
           {
            "automargin": true,
            "type": "pie"
           }
          ]
         },
         "layout": {
          "autotypenumbers": "strict",
          "colorway": [
           "#636efa",
           "#EF553B",
           "#00cc96",
           "#ab63fa",
           "#FFA15A",
           "#19d3f3",
           "#FF6692",
           "#B6E880",
           "#FF97FF",
           "#FECB52"
          ],
          "font": {
           "color": "#f2f5fa"
          },
          "hovermode": "closest",
          "hoverlabel": {
           "align": "left"
          },
          "paper_bgcolor": "rgb(17,17,17)",
          "plot_bgcolor": "rgb(17,17,17)",
          "polar": {
           "bgcolor": "rgb(17,17,17)",
           "angularaxis": {
            "gridcolor": "#506784",
            "linecolor": "#506784",
            "ticks": ""
           },
           "radialaxis": {
            "gridcolor": "#506784",
            "linecolor": "#506784",
            "ticks": ""
           }
          },
          "ternary": {
           "bgcolor": "rgb(17,17,17)",
           "aaxis": {
            "gridcolor": "#506784",
            "linecolor": "#506784",
            "ticks": ""
           },
           "baxis": {
            "gridcolor": "#506784",
            "linecolor": "#506784",
            "ticks": ""
           },
           "caxis": {
            "gridcolor": "#506784",
            "linecolor": "#506784",
            "ticks": ""
           }
          },
          "coloraxis": {
           "colorbar": {
            "outlinewidth": 0,
            "ticks": ""
           }
          },
          "colorscale": {
           "sequential": [
            [
             0.0,
             "#0d0887"
            ],
            [
             0.1111111111111111,
             "#46039f"
            ],
            [
             0.2222222222222222,
             "#7201a8"
            ],
            [
             0.3333333333333333,
             "#9c179e"
            ],
            [
             0.4444444444444444,
             "#bd3786"
            ],
            [
             0.5555555555555556,
             "#d8576b"
            ],
            [
             0.6666666666666666,
             "#ed7953"
            ],
            [
             0.7777777777777778,
             "#fb9f3a"
            ],
            [
             0.8888888888888888,
             "#fdca26"
            ],
            [
             1.0,
             "#f0f921"
            ]
           ],
           "sequentialminus": [
            [
             0.0,
             "#0d0887"
            ],
            [
             0.1111111111111111,
             "#46039f"
            ],
            [
             0.2222222222222222,
             "#7201a8"
            ],
            [
             0.3333333333333333,
             "#9c179e"
            ],
            [
             0.4444444444444444,
             "#bd3786"
            ],
            [
             0.5555555555555556,
             "#d8576b"
            ],
            [
             0.6666666666666666,
             "#ed7953"
            ],
            [
             0.7777777777777778,
             "#fb9f3a"
            ],
            [
             0.8888888888888888,
             "#fdca26"
            ],
            [
             1.0,
             "#f0f921"
            ]
           ],
           "diverging": [
            [
             0,
             "#8e0152"
            ],
            [
             0.1,
             "#c51b7d"
            ],
            [
             0.2,
             "#de77ae"
            ],
            [
             0.3,
             "#f1b6da"
            ],
            [
             0.4,
             "#fde0ef"
            ],
            [
             0.5,
             "#f7f7f7"
            ],
            [
             0.6,
             "#e6f5d0"
            ],
            [
             0.7,
             "#b8e186"
            ],
            [
             0.8,
             "#7fbc41"
            ],
            [
             0.9,
             "#4d9221"
            ],
            [
             1,
             "#276419"
            ]
           ]
          },
          "xaxis": {
           "gridcolor": "#283442",
           "linecolor": "#506784",
           "ticks": "",
           "title": {
            "standoff": 15
           },
           "zerolinecolor": "#283442",
           "automargin": true,
           "zerolinewidth": 2
          },
          "yaxis": {
           "gridcolor": "#283442",
           "linecolor": "#506784",
           "ticks": "",
           "title": {
            "standoff": 15
           },
           "zerolinecolor": "#283442",
           "automargin": true,
           "zerolinewidth": 2
          },
          "scene": {
           "xaxis": {
            "backgroundcolor": "rgb(17,17,17)",
            "gridcolor": "#506784",
            "linecolor": "#506784",
            "showbackground": true,
            "ticks": "",
            "zerolinecolor": "#C8D4E3",
            "gridwidth": 2
           },
           "yaxis": {
            "backgroundcolor": "rgb(17,17,17)",
            "gridcolor": "#506784",
            "linecolor": "#506784",
            "showbackground": true,
            "ticks": "",
            "zerolinecolor": "#C8D4E3",
            "gridwidth": 2
           },
           "zaxis": {
            "backgroundcolor": "rgb(17,17,17)",
            "gridcolor": "#506784",
            "linecolor": "#506784",
            "showbackground": true,
            "ticks": "",
            "zerolinecolor": "#C8D4E3",
            "gridwidth": 2
           }
          },
          "shapedefaults": {
           "line": {
            "color": "#f2f5fa"
           }
          },
          "annotationdefaults": {
           "arrowcolor": "#f2f5fa",
           "arrowhead": 0,
           "arrowwidth": 1
          },
          "geo": {
           "bgcolor": "rgb(17,17,17)",
           "landcolor": "rgb(17,17,17)",
           "subunitcolor": "#506784",
           "showland": true,
           "showlakes": true,
           "lakecolor": "rgb(17,17,17)"
          },
          "title": {
           "x": 0.05
          },
          "updatemenudefaults": {
           "bgcolor": "#506784",
           "borderwidth": 0
          },
          "sliderdefaults": {
           "bgcolor": "#C8D4E3",
           "borderwidth": 1,
           "bordercolor": "rgb(17,17,17)",
           "tickwidth": 0
          },
          "mapbox": {
           "style": "dark"
          }
         }
        },
        "xaxis": {
         "anchor": "y",
         "domain": [
          0.0,
          0.7363
         ],
         "title": {
          "text": "0"
         }
        },
        "yaxis": {
         "anchor": "x",
         "domain": [
          0.0,
          0.7326
         ],
         "title": {
          "text": "1"
         }
        },
        "xaxis2": {
         "anchor": "y2",
         "domain": [
          0.7413,
          1.0
         ],
         "matches": "x2",
         "showticklabels": false,
         "showline": false,
         "ticks": "",
         "showgrid": false
        },
        "yaxis2": {
         "anchor": "x2",
         "domain": [
          0.0,
          0.7326
         ],
         "matches": "y",
         "showticklabels": false,
         "showgrid": true
        },
        "xaxis3": {
         "anchor": "y3",
         "domain": [
          0.0,
          0.7363
         ],
         "matches": "x",
         "showticklabels": false,
         "showgrid": true
        },
        "yaxis3": {
         "anchor": "x3",
         "domain": [
          0.7426,
          1.0
         ],
         "matches": "y3",
         "showticklabels": false,
         "showline": false,
         "ticks": "",
         "showgrid": false
        },
        "xaxis4": {
         "anchor": "y4",
         "domain": [
          0.7413,
          1.0
         ],
         "matches": "x2",
         "showticklabels": false,
         "showgrid": false,
         "showline": false,
         "ticks": ""
        },
        "yaxis4": {
         "anchor": "x4",
         "domain": [
          0.7426,
          1.0
         ],
         "matches": "y3",
         "showticklabels": false,
         "showline": false,
         "ticks": "",
         "showgrid": true
        },
        "legend": {
         "title": {
          "text": "Clusters"
         },
         "tracegroupgap": 0
        },
        "margin": {
         "t": 60
        }
       },
       "config": {
        "plotlyServerURL": "https://plot.ly"
       }
      },
      "text/html": "<div>                            <div id=\"0a6fe222-da4b-4580-8d55-e5de37126e2d\" class=\"plotly-graph-div\" style=\"height:525px; width:100%;\"></div>            <script type=\"text/javascript\">                require([\"plotly\"], function(Plotly) {                    window.PLOTLYENV=window.PLOTLYENV || {};                                    if (document.getElementById(\"0a6fe222-da4b-4580-8d55-e5de37126e2d\")) {                    Plotly.newPlot(                        \"0a6fe222-da4b-4580-8d55-e5de37126e2d\",                        [{\"customdata\":[[\"Interesting jacket colors.\"],[\"Beautiful drawings.\"],[\"Cool coloring, I'll buy this clothes.\"],[\"I liked the various drawings on the T-shirt.\"],[\"The prints are testable.\"],[\"colorful colors.\"]],\"hovertemplate\":\"Clusters=(1, 'Interesting jacket')\\u003cbr\\u003e0=%{x}\\u003cbr\\u003e1=%{y}\\u003cbr\\u003etext=%{customdata[0]}\\u003cextra\\u003e\\u003c\\u002fextra\\u003e\",\"legendgroup\":\"(1, 'Interesting jacket')\",\"marker\":{\"color\":\"#636EFA\",\"symbol\":\"circle\"},\"mode\":\"markers\",\"name\":\"(1, 'Interesting jacket')\",\"orientation\":\"v\",\"showlegend\":true,\"x\":[5.46876335144043,6.197550296783447,5.913163661956787,6.606362342834473,5.8914055824279785,5.378495216369629],\"xaxis\":\"x\",\"y\":[1.9543074369430542,2.257585048675537,2.9802157878875732,2.8735697269439697,1.480835199356079,2.4991137981414795],\"yaxis\":\"y\",\"type\":\"scatter\"},{\"alignmentgroup\":\"True\",\"customdata\":[[\"Interesting jacket colors.\"],[\"Beautiful drawings.\"],[\"Cool coloring, I'll buy this clothes.\"],[\"I liked the various drawings on the T-shirt.\"],[\"The prints are testable.\"],[\"colorful colors.\"]],\"hovertemplate\":\"Clusters=(1, 'Interesting jacket')\\u003cbr\\u003e0=%{x}\\u003cbr\\u003etext=%{customdata[0]}\\u003cextra\\u003e\\u003c\\u002fextra\\u003e\",\"legendgroup\":\"(1, 'Interesting jacket')\",\"marker\":{\"color\":\"#636EFA\",\"symbol\":\"circle\"},\"name\":\"(1, 'Interesting jacket')\",\"offsetgroup\":\"(1, 'Interesting jacket')\",\"scalegroup\":\"x\",\"showlegend\":false,\"x\":[5.46876335144043,6.197550296783447,5.913163661956787,6.606362342834473,5.8914055824279785,5.378495216369629],\"xaxis\":\"x3\",\"yaxis\":\"y3\",\"type\":\"violin\"},{\"alignmentgroup\":\"True\",\"customdata\":[[\"Interesting jacket colors.\"],[\"Beautiful drawings.\"],[\"Cool coloring, I'll buy this clothes.\"],[\"I liked the various drawings on the T-shirt.\"],[\"The prints are testable.\"],[\"colorful colors.\"]],\"hovertemplate\":\"Clusters=(1, 'Interesting jacket')\\u003cbr\\u003e1=%{y}\\u003cbr\\u003etext=%{customdata[0]}\\u003cextra\\u003e\\u003c\\u002fextra\\u003e\",\"legendgroup\":\"(1, 'Interesting jacket')\",\"marker\":{\"color\":\"#636EFA\",\"symbol\":\"circle\"},\"name\":\"(1, 'Interesting jacket')\",\"offsetgroup\":\"(1, 'Interesting jacket')\",\"scalegroup\":\"y\",\"showlegend\":false,\"xaxis\":\"x2\",\"y\":[1.9543074369430542,2.257585048675537,2.9802157878875732,2.8735697269439697,1.480835199356079,2.4991137981414795],\"yaxis\":\"y2\",\"type\":\"violin\"},{\"hovertemplate\":\"\\u003cb\\u003eOLS trendline\\u003c\\u002fb\\u003e\\u003cbr\\u003e1 = 0.431975 * 0 + -0.211726\\u003cbr\\u003eR\\u003csup\\u003e2\\u003c\\u002fsup\\u003e=0.120864\\u003cbr\\u003e\\u003cbr\\u003eClusters=(1, 'Interesting jacket')\\u003cbr\\u003e0=%{x}\\u003cbr\\u003e1=%{y} \\u003cb\\u003e(trend)\\u003c\\u002fb\\u003e\\u003cextra\\u003e\\u003c\\u002fextra\\u003e\",\"legendgroup\":\"(1, 'Interesting jacket')\",\"marker\":{\"color\":\"#636EFA\",\"symbol\":\"circle\"},\"mode\":\"lines\",\"name\":\"(1, 'Interesting jacket')\",\"showlegend\":false,\"x\":[5.378495216369629,5.46876335144043,5.8914055824279785,5.913163661956787,6.197550296783447,6.606362342834473],\"xaxis\":\"x\",\"y\":[2.111647867604568,2.1506414207967235,2.333212184027162,2.3426111245370143,2.465458964071462,2.64205543691076],\"yaxis\":\"y\",\"type\":\"scatter\"},{\"customdata\":[[\"The battery is bad, it does not keep the day.\"],[\"The charge does not hold.\"],[\"Low-capacity battery, not enough.\"]],\"hovertemplate\":\"Clusters=(2, 'battery bad')\\u003cbr\\u003e0=%{x}\\u003cbr\\u003e1=%{y}\\u003cbr\\u003etext=%{customdata[0]}\\u003cextra\\u003e\\u003c\\u002fextra\\u003e\",\"legendgroup\":\"(2, 'battery bad')\",\"marker\":{\"color\":\"#EF553B\",\"symbol\":\"circle\"},\"mode\":\"markers\",\"name\":\"(2, 'battery bad')\",\"orientation\":\"v\",\"showlegend\":true,\"x\":[7.081514358520508,7.601170063018799,7.976958751678467],\"xaxis\":\"x\",\"y\":[0.6479631066322327,0.8955583572387695,0.4604176878929138],\"yaxis\":\"y\",\"type\":\"scatter\"},{\"alignmentgroup\":\"True\",\"customdata\":[[\"The battery is bad, it does not keep the day.\"],[\"The charge does not hold.\"],[\"Low-capacity battery, not enough.\"]],\"hovertemplate\":\"Clusters=(2, 'battery bad')\\u003cbr\\u003e0=%{x}\\u003cbr\\u003etext=%{customdata[0]}\\u003cextra\\u003e\\u003c\\u002fextra\\u003e\",\"legendgroup\":\"(2, 'battery bad')\",\"marker\":{\"color\":\"#EF553B\",\"symbol\":\"circle\"},\"name\":\"(2, 'battery bad')\",\"offsetgroup\":\"(2, 'battery bad')\",\"scalegroup\":\"x\",\"showlegend\":false,\"x\":[7.081514358520508,7.601170063018799,7.976958751678467],\"xaxis\":\"x3\",\"yaxis\":\"y3\",\"type\":\"violin\"},{\"alignmentgroup\":\"True\",\"customdata\":[[\"The battery is bad, it does not keep the day.\"],[\"The charge does not hold.\"],[\"Low-capacity battery, not enough.\"]],\"hovertemplate\":\"Clusters=(2, 'battery bad')\\u003cbr\\u003e1=%{y}\\u003cbr\\u003etext=%{customdata[0]}\\u003cextra\\u003e\\u003c\\u002fextra\\u003e\",\"legendgroup\":\"(2, 'battery bad')\",\"marker\":{\"color\":\"#EF553B\",\"symbol\":\"circle\"},\"name\":\"(2, 'battery bad')\",\"offsetgroup\":\"(2, 'battery bad')\",\"scalegroup\":\"y\",\"showlegend\":false,\"xaxis\":\"x2\",\"y\":[0.6479631066322327,0.8955583572387695,0.4604176878929138],\"yaxis\":\"y2\",\"type\":\"violin\"},{\"hovertemplate\":\"\\u003cb\\u003eOLS trendline\\u003c\\u002fb\\u003e\\u003cbr\\u003e1 = -0.167172 * 0 + 1.93067\\u003cbr\\u003eR\\u003csup\\u003e2\\u003c\\u002fsup\\u003e=0.118609\\u003cbr\\u003e\\u003cbr\\u003eClusters=(2, 'battery bad')\\u003cbr\\u003e0=%{x}\\u003cbr\\u003e1=%{y} \\u003cb\\u003e(trend)\\u003c\\u002fb\\u003e\\u003cextra\\u003e\\u003c\\u002fextra\\u003e\",\"legendgroup\":\"(2, 'battery bad')\",\"marker\":{\"color\":\"#EF553B\",\"symbol\":\"circle\"},\"mode\":\"lines\",\"name\":\"(2, 'battery bad')\",\"showlegend\":false,\"x\":[7.081514358520508,7.601170063018799,7.976958751678467],\"xaxis\":\"x\",\"y\":[0.7468348196276435,0.6599628651034424,0.5971414670328296],\"yaxis\":\"y\",\"type\":\"scatter\"},{\"customdata\":[[\"The screen is very bright, convenient to read.\"],[\"very bright screen!\"],[\"The screen is very bright, good for the eyes.\"]],\"hovertemplate\":\"Clusters=(3, 'screen bright')\\u003cbr\\u003e0=%{x}\\u003cbr\\u003e1=%{y}\\u003cbr\\u003etext=%{customdata[0]}\\u003cextra\\u003e\\u003c\\u002fextra\\u003e\",\"legendgroup\":\"(3, 'screen bright')\",\"marker\":{\"color\":\"#00CC96\",\"symbol\":\"circle\"},\"mode\":\"markers\",\"name\":\"(3, 'screen bright')\",\"orientation\":\"v\",\"showlegend\":true,\"x\":[7.469303131103516,6.924661159515381,6.75410270690918],\"xaxis\":\"x\",\"y\":[1.909942865371704,2.0375876426696777,1.4533615112304688],\"yaxis\":\"y\",\"type\":\"scatter\"},{\"alignmentgroup\":\"True\",\"customdata\":[[\"The screen is very bright, convenient to read.\"],[\"very bright screen!\"],[\"The screen is very bright, good for the eyes.\"]],\"hovertemplate\":\"Clusters=(3, 'screen bright')\\u003cbr\\u003e0=%{x}\\u003cbr\\u003etext=%{customdata[0]}\\u003cextra\\u003e\\u003c\\u002fextra\\u003e\",\"legendgroup\":\"(3, 'screen bright')\",\"marker\":{\"color\":\"#00CC96\",\"symbol\":\"circle\"},\"name\":\"(3, 'screen bright')\",\"offsetgroup\":\"(3, 'screen bright')\",\"scalegroup\":\"x\",\"showlegend\":false,\"x\":[7.469303131103516,6.924661159515381,6.75410270690918],\"xaxis\":\"x3\",\"yaxis\":\"y3\",\"type\":\"violin\"},{\"alignmentgroup\":\"True\",\"customdata\":[[\"The screen is very bright, convenient to read.\"],[\"very bright screen!\"],[\"The screen is very bright, good for the eyes.\"]],\"hovertemplate\":\"Clusters=(3, 'screen bright')\\u003cbr\\u003e1=%{y}\\u003cbr\\u003etext=%{customdata[0]}\\u003cextra\\u003e\\u003c\\u002fextra\\u003e\",\"legendgroup\":\"(3, 'screen bright')\",\"marker\":{\"color\":\"#00CC96\",\"symbol\":\"circle\"},\"name\":\"(3, 'screen bright')\",\"offsetgroup\":\"(3, 'screen bright')\",\"scalegroup\":\"y\",\"showlegend\":false,\"xaxis\":\"x2\",\"y\":[1.909942865371704,2.0375876426696777,1.4533615112304688],\"yaxis\":\"y2\",\"type\":\"violin\"},{\"hovertemplate\":\"\\u003cb\\u003eOLS trendline\\u003c\\u002fb\\u003e\\u003cbr\\u003e1 = 0.42601 * 0 + -1.2028\\u003cbr\\u003eR\\u003csup\\u003e2\\u003c\\u002fsup\\u003e=0.268417\\u003cbr\\u003e\\u003cbr\\u003eClusters=(3, 'screen bright')\\u003cbr\\u003e0=%{x}\\u003cbr\\u003e1=%{y} \\u003cb\\u003e(trend)\\u003c\\u002fb\\u003e\\u003cextra\\u003e\\u003c\\u002fextra\\u003e\",\"legendgroup\":\"(3, 'screen bright')\",\"marker\":{\"color\":\"#00CC96\",\"symbol\":\"circle\"},\"mode\":\"lines\",\"name\":\"(3, 'screen bright')\",\"showlegend\":false,\"x\":[6.75410270690918,6.924661159515381,7.469303131103516],\"xaxis\":\"x\",\"y\":[1.6745166375748062,1.7471762377002533,1.9791991439967787],\"yaxis\":\"y\",\"type\":\"scatter\"},{\"customdata\":[[\"The fabric is very bad, I didn't like it.\"],[\"Low quality materials, not suitable.\"],[\"The fabric was worn out on the 2nd day.\"]],\"hovertemplate\":\"Clusters=(4, 'fabric bad')\\u003cbr\\u003e0=%{x}\\u003cbr\\u003e1=%{y}\\u003cbr\\u003etext=%{customdata[0]}\\u003cextra\\u003e\\u003c\\u002fextra\\u003e\",\"legendgroup\":\"(4, 'fabric bad')\",\"marker\":{\"color\":\"#AB63FA\",\"symbol\":\"circle\"},\"mode\":\"markers\",\"name\":\"(4, 'fabric bad')\",\"orientation\":\"v\",\"showlegend\":true,\"x\":[6.445352554321289,7.198121547698975,6.5724687576293945],\"xaxis\":\"x\",\"y\":[0.10997551679611206,-0.12813608348369598,-0.4194413721561432],\"yaxis\":\"y\",\"type\":\"scatter\"},{\"alignmentgroup\":\"True\",\"customdata\":[[\"The fabric is very bad, I didn't like it.\"],[\"Low quality materials, not suitable.\"],[\"The fabric was worn out on the 2nd day.\"]],\"hovertemplate\":\"Clusters=(4, 'fabric bad')\\u003cbr\\u003e0=%{x}\\u003cbr\\u003etext=%{customdata[0]}\\u003cextra\\u003e\\u003c\\u002fextra\\u003e\",\"legendgroup\":\"(4, 'fabric bad')\",\"marker\":{\"color\":\"#AB63FA\",\"symbol\":\"circle\"},\"name\":\"(4, 'fabric bad')\",\"offsetgroup\":\"(4, 'fabric bad')\",\"scalegroup\":\"x\",\"showlegend\":false,\"x\":[6.445352554321289,7.198121547698975,6.5724687576293945],\"xaxis\":\"x3\",\"yaxis\":\"y3\",\"type\":\"violin\"},{\"alignmentgroup\":\"True\",\"customdata\":[[\"The fabric is very bad, I didn't like it.\"],[\"Low quality materials, not suitable.\"],[\"The fabric was worn out on the 2nd day.\"]],\"hovertemplate\":\"Clusters=(4, 'fabric bad')\\u003cbr\\u003e1=%{y}\\u003cbr\\u003etext=%{customdata[0]}\\u003cextra\\u003e\\u003c\\u002fextra\\u003e\",\"legendgroup\":\"(4, 'fabric bad')\",\"marker\":{\"color\":\"#AB63FA\",\"symbol\":\"circle\"},\"name\":\"(4, 'fabric bad')\",\"offsetgroup\":\"(4, 'fabric bad')\",\"scalegroup\":\"y\",\"showlegend\":false,\"xaxis\":\"x2\",\"y\":[0.10997551679611206,-0.12813608348369598,-0.4194413721561432],\"yaxis\":\"y2\",\"type\":\"violin\"},{\"hovertemplate\":\"\\u003cb\\u003eOLS trendline\\u003c\\u002fb\\u003e\\u003cbr\\u003e1 = -0.0659829 * 0 + 0.298768\\u003cbr\\u003eR\\u003csup\\u003e2\\u003c\\u002fsup\\u003e=0.010055\\u003cbr\\u003e\\u003cbr\\u003eClusters=(4, 'fabric bad')\\u003cbr\\u003e0=%{x}\\u003cbr\\u003e1=%{y} \\u003cb\\u003e(trend)\\u003c\\u002fb\\u003e\\u003cextra\\u003e\\u003c\\u002fextra\\u003e\",\"legendgroup\":\"(4, 'fabric bad')\",\"marker\":{\"color\":\"#AB63FA\",\"symbol\":\"circle\"},\"mode\":\"lines\",\"name\":\"(4, 'fabric bad')\",\"showlegend\":false,\"x\":[6.445352554321289,6.5724687576293945,7.198121547698975],\"xaxis\":\"x\",\"y\":[-0.12651486746133994,-0.1349023573438122,-0.17618471403857466],\"yaxis\":\"y\",\"type\":\"scatter\"}],                        {\"template\":{\"data\":{\"histogram2dcontour\":[{\"type\":\"histogram2dcontour\",\"colorbar\":{\"outlinewidth\":0,\"ticks\":\"\"},\"colorscale\":[[0.0,\"#0d0887\"],[0.1111111111111111,\"#46039f\"],[0.2222222222222222,\"#7201a8\"],[0.3333333333333333,\"#9c179e\"],[0.4444444444444444,\"#bd3786\"],[0.5555555555555556,\"#d8576b\"],[0.6666666666666666,\"#ed7953\"],[0.7777777777777778,\"#fb9f3a\"],[0.8888888888888888,\"#fdca26\"],[1.0,\"#f0f921\"]]}],\"choropleth\":[{\"type\":\"choropleth\",\"colorbar\":{\"outlinewidth\":0,\"ticks\":\"\"}}],\"histogram2d\":[{\"type\":\"histogram2d\",\"colorbar\":{\"outlinewidth\":0,\"ticks\":\"\"},\"colorscale\":[[0.0,\"#0d0887\"],[0.1111111111111111,\"#46039f\"],[0.2222222222222222,\"#7201a8\"],[0.3333333333333333,\"#9c179e\"],[0.4444444444444444,\"#bd3786\"],[0.5555555555555556,\"#d8576b\"],[0.6666666666666666,\"#ed7953\"],[0.7777777777777778,\"#fb9f3a\"],[0.8888888888888888,\"#fdca26\"],[1.0,\"#f0f921\"]]}],\"heatmap\":[{\"type\":\"heatmap\",\"colorbar\":{\"outlinewidth\":0,\"ticks\":\"\"},\"colorscale\":[[0.0,\"#0d0887\"],[0.1111111111111111,\"#46039f\"],[0.2222222222222222,\"#7201a8\"],[0.3333333333333333,\"#9c179e\"],[0.4444444444444444,\"#bd3786\"],[0.5555555555555556,\"#d8576b\"],[0.6666666666666666,\"#ed7953\"],[0.7777777777777778,\"#fb9f3a\"],[0.8888888888888888,\"#fdca26\"],[1.0,\"#f0f921\"]]}],\"heatmapgl\":[{\"type\":\"heatmapgl\",\"colorbar\":{\"outlinewidth\":0,\"ticks\":\"\"},\"colorscale\":[[0.0,\"#0d0887\"],[0.1111111111111111,\"#46039f\"],[0.2222222222222222,\"#7201a8\"],[0.3333333333333333,\"#9c179e\"],[0.4444444444444444,\"#bd3786\"],[0.5555555555555556,\"#d8576b\"],[0.6666666666666666,\"#ed7953\"],[0.7777777777777778,\"#fb9f3a\"],[0.8888888888888888,\"#fdca26\"],[1.0,\"#f0f921\"]]}],\"contourcarpet\":[{\"type\":\"contourcarpet\",\"colorbar\":{\"outlinewidth\":0,\"ticks\":\"\"}}],\"contour\":[{\"type\":\"contour\",\"colorbar\":{\"outlinewidth\":0,\"ticks\":\"\"},\"colorscale\":[[0.0,\"#0d0887\"],[0.1111111111111111,\"#46039f\"],[0.2222222222222222,\"#7201a8\"],[0.3333333333333333,\"#9c179e\"],[0.4444444444444444,\"#bd3786\"],[0.5555555555555556,\"#d8576b\"],[0.6666666666666666,\"#ed7953\"],[0.7777777777777778,\"#fb9f3a\"],[0.8888888888888888,\"#fdca26\"],[1.0,\"#f0f921\"]]}],\"surface\":[{\"type\":\"surface\",\"colorbar\":{\"outlinewidth\":0,\"ticks\":\"\"},\"colorscale\":[[0.0,\"#0d0887\"],[0.1111111111111111,\"#46039f\"],[0.2222222222222222,\"#7201a8\"],[0.3333333333333333,\"#9c179e\"],[0.4444444444444444,\"#bd3786\"],[0.5555555555555556,\"#d8576b\"],[0.6666666666666666,\"#ed7953\"],[0.7777777777777778,\"#fb9f3a\"],[0.8888888888888888,\"#fdca26\"],[1.0,\"#f0f921\"]]}],\"mesh3d\":[{\"type\":\"mesh3d\",\"colorbar\":{\"outlinewidth\":0,\"ticks\":\"\"}}],\"scatter\":[{\"marker\":{\"line\":{\"color\":\"#283442\"}},\"type\":\"scatter\"}],\"parcoords\":[{\"type\":\"parcoords\",\"line\":{\"colorbar\":{\"outlinewidth\":0,\"ticks\":\"\"}}}],\"scatterpolargl\":[{\"type\":\"scatterpolargl\",\"marker\":{\"colorbar\":{\"outlinewidth\":0,\"ticks\":\"\"}}}],\"bar\":[{\"error_x\":{\"color\":\"#f2f5fa\"},\"error_y\":{\"color\":\"#f2f5fa\"},\"marker\":{\"line\":{\"color\":\"rgb(17,17,17)\",\"width\":0.5},\"pattern\":{\"fillmode\":\"overlay\",\"size\":10,\"solidity\":0.2}},\"type\":\"bar\"}],\"scattergeo\":[{\"type\":\"scattergeo\",\"marker\":{\"colorbar\":{\"outlinewidth\":0,\"ticks\":\"\"}}}],\"scatterpolar\":[{\"type\":\"scatterpolar\",\"marker\":{\"colorbar\":{\"outlinewidth\":0,\"ticks\":\"\"}}}],\"histogram\":[{\"marker\":{\"pattern\":{\"fillmode\":\"overlay\",\"size\":10,\"solidity\":0.2}},\"type\":\"histogram\"}],\"scattergl\":[{\"marker\":{\"line\":{\"color\":\"#283442\"}},\"type\":\"scattergl\"}],\"scatter3d\":[{\"type\":\"scatter3d\",\"line\":{\"colorbar\":{\"outlinewidth\":0,\"ticks\":\"\"}},\"marker\":{\"colorbar\":{\"outlinewidth\":0,\"ticks\":\"\"}}}],\"scattermapbox\":[{\"type\":\"scattermapbox\",\"marker\":{\"colorbar\":{\"outlinewidth\":0,\"ticks\":\"\"}}}],\"scatterternary\":[{\"type\":\"scatterternary\",\"marker\":{\"colorbar\":{\"outlinewidth\":0,\"ticks\":\"\"}}}],\"scattercarpet\":[{\"type\":\"scattercarpet\",\"marker\":{\"colorbar\":{\"outlinewidth\":0,\"ticks\":\"\"}}}],\"carpet\":[{\"aaxis\":{\"endlinecolor\":\"#A2B1C6\",\"gridcolor\":\"#506784\",\"linecolor\":\"#506784\",\"minorgridcolor\":\"#506784\",\"startlinecolor\":\"#A2B1C6\"},\"baxis\":{\"endlinecolor\":\"#A2B1C6\",\"gridcolor\":\"#506784\",\"linecolor\":\"#506784\",\"minorgridcolor\":\"#506784\",\"startlinecolor\":\"#A2B1C6\"},\"type\":\"carpet\"}],\"table\":[{\"cells\":{\"fill\":{\"color\":\"#506784\"},\"line\":{\"color\":\"rgb(17,17,17)\"}},\"header\":{\"fill\":{\"color\":\"#2a3f5f\"},\"line\":{\"color\":\"rgb(17,17,17)\"}},\"type\":\"table\"}],\"barpolar\":[{\"marker\":{\"line\":{\"color\":\"rgb(17,17,17)\",\"width\":0.5},\"pattern\":{\"fillmode\":\"overlay\",\"size\":10,\"solidity\":0.2}},\"type\":\"barpolar\"}],\"pie\":[{\"automargin\":true,\"type\":\"pie\"}]},\"layout\":{\"autotypenumbers\":\"strict\",\"colorway\":[\"#636efa\",\"#EF553B\",\"#00cc96\",\"#ab63fa\",\"#FFA15A\",\"#19d3f3\",\"#FF6692\",\"#B6E880\",\"#FF97FF\",\"#FECB52\"],\"font\":{\"color\":\"#f2f5fa\"},\"hovermode\":\"closest\",\"hoverlabel\":{\"align\":\"left\"},\"paper_bgcolor\":\"rgb(17,17,17)\",\"plot_bgcolor\":\"rgb(17,17,17)\",\"polar\":{\"bgcolor\":\"rgb(17,17,17)\",\"angularaxis\":{\"gridcolor\":\"#506784\",\"linecolor\":\"#506784\",\"ticks\":\"\"},\"radialaxis\":{\"gridcolor\":\"#506784\",\"linecolor\":\"#506784\",\"ticks\":\"\"}},\"ternary\":{\"bgcolor\":\"rgb(17,17,17)\",\"aaxis\":{\"gridcolor\":\"#506784\",\"linecolor\":\"#506784\",\"ticks\":\"\"},\"baxis\":{\"gridcolor\":\"#506784\",\"linecolor\":\"#506784\",\"ticks\":\"\"},\"caxis\":{\"gridcolor\":\"#506784\",\"linecolor\":\"#506784\",\"ticks\":\"\"}},\"coloraxis\":{\"colorbar\":{\"outlinewidth\":0,\"ticks\":\"\"}},\"colorscale\":{\"sequential\":[[0.0,\"#0d0887\"],[0.1111111111111111,\"#46039f\"],[0.2222222222222222,\"#7201a8\"],[0.3333333333333333,\"#9c179e\"],[0.4444444444444444,\"#bd3786\"],[0.5555555555555556,\"#d8576b\"],[0.6666666666666666,\"#ed7953\"],[0.7777777777777778,\"#fb9f3a\"],[0.8888888888888888,\"#fdca26\"],[1.0,\"#f0f921\"]],\"sequentialminus\":[[0.0,\"#0d0887\"],[0.1111111111111111,\"#46039f\"],[0.2222222222222222,\"#7201a8\"],[0.3333333333333333,\"#9c179e\"],[0.4444444444444444,\"#bd3786\"],[0.5555555555555556,\"#d8576b\"],[0.6666666666666666,\"#ed7953\"],[0.7777777777777778,\"#fb9f3a\"],[0.8888888888888888,\"#fdca26\"],[1.0,\"#f0f921\"]],\"diverging\":[[0,\"#8e0152\"],[0.1,\"#c51b7d\"],[0.2,\"#de77ae\"],[0.3,\"#f1b6da\"],[0.4,\"#fde0ef\"],[0.5,\"#f7f7f7\"],[0.6,\"#e6f5d0\"],[0.7,\"#b8e186\"],[0.8,\"#7fbc41\"],[0.9,\"#4d9221\"],[1,\"#276419\"]]},\"xaxis\":{\"gridcolor\":\"#283442\",\"linecolor\":\"#506784\",\"ticks\":\"\",\"title\":{\"standoff\":15},\"zerolinecolor\":\"#283442\",\"automargin\":true,\"zerolinewidth\":2},\"yaxis\":{\"gridcolor\":\"#283442\",\"linecolor\":\"#506784\",\"ticks\":\"\",\"title\":{\"standoff\":15},\"zerolinecolor\":\"#283442\",\"automargin\":true,\"zerolinewidth\":2},\"scene\":{\"xaxis\":{\"backgroundcolor\":\"rgb(17,17,17)\",\"gridcolor\":\"#506784\",\"linecolor\":\"#506784\",\"showbackground\":true,\"ticks\":\"\",\"zerolinecolor\":\"#C8D4E3\",\"gridwidth\":2},\"yaxis\":{\"backgroundcolor\":\"rgb(17,17,17)\",\"gridcolor\":\"#506784\",\"linecolor\":\"#506784\",\"showbackground\":true,\"ticks\":\"\",\"zerolinecolor\":\"#C8D4E3\",\"gridwidth\":2},\"zaxis\":{\"backgroundcolor\":\"rgb(17,17,17)\",\"gridcolor\":\"#506784\",\"linecolor\":\"#506784\",\"showbackground\":true,\"ticks\":\"\",\"zerolinecolor\":\"#C8D4E3\",\"gridwidth\":2}},\"shapedefaults\":{\"line\":{\"color\":\"#f2f5fa\"}},\"annotationdefaults\":{\"arrowcolor\":\"#f2f5fa\",\"arrowhead\":0,\"arrowwidth\":1},\"geo\":{\"bgcolor\":\"rgb(17,17,17)\",\"landcolor\":\"rgb(17,17,17)\",\"subunitcolor\":\"#506784\",\"showland\":true,\"showlakes\":true,\"lakecolor\":\"rgb(17,17,17)\"},\"title\":{\"x\":0.05},\"updatemenudefaults\":{\"bgcolor\":\"#506784\",\"borderwidth\":0},\"sliderdefaults\":{\"bgcolor\":\"#C8D4E3\",\"borderwidth\":1,\"bordercolor\":\"rgb(17,17,17)\",\"tickwidth\":0},\"mapbox\":{\"style\":\"dark\"}}},\"xaxis\":{\"anchor\":\"y\",\"domain\":[0.0,0.7363],\"title\":{\"text\":\"0\"}},\"yaxis\":{\"anchor\":\"x\",\"domain\":[0.0,0.7326],\"title\":{\"text\":\"1\"}},\"xaxis2\":{\"anchor\":\"y2\",\"domain\":[0.7413,1.0],\"matches\":\"x2\",\"showticklabels\":false,\"showline\":false,\"ticks\":\"\",\"showgrid\":false},\"yaxis2\":{\"anchor\":\"x2\",\"domain\":[0.0,0.7326],\"matches\":\"y\",\"showticklabels\":false,\"showgrid\":true},\"xaxis3\":{\"anchor\":\"y3\",\"domain\":[0.0,0.7363],\"matches\":\"x\",\"showticklabels\":false,\"showgrid\":true},\"yaxis3\":{\"anchor\":\"x3\",\"domain\":[0.7426,1.0],\"matches\":\"y3\",\"showticklabels\":false,\"showline\":false,\"ticks\":\"\",\"showgrid\":false},\"xaxis4\":{\"anchor\":\"y4\",\"domain\":[0.7413,1.0],\"matches\":\"x2\",\"showticklabels\":false,\"showgrid\":false,\"showline\":false,\"ticks\":\"\"},\"yaxis4\":{\"anchor\":\"x4\",\"domain\":[0.7426,1.0],\"matches\":\"y3\",\"showticklabels\":false,\"showline\":false,\"ticks\":\"\",\"showgrid\":true},\"legend\":{\"title\":{\"text\":\"Clusters\"},\"tracegroupgap\":0},\"margin\":{\"t\":60}},                        {\"responsive\": true}                    ).then(function(){\n                            \nvar gd = document.getElementById('0a6fe222-da4b-4580-8d55-e5de37126e2d');\nvar x = new MutationObserver(function (mutations, observer) {{\n        var display = window.getComputedStyle(gd).display;\n        if (!display || display === 'none') {{\n            console.log([gd, 'removed!']);\n            Plotly.purge(gd);\n            observer.disconnect();\n        }}\n}});\n\n// Listen for the removal of the full notebook cells\nvar notebookContainer = gd.closest('#notebook-container');\nif (notebookContainer) {{\n    x.observe(notebookContainer, {childList: true});\n}}\n\n// Listen for the clearing of the current output cell\nvar outputEl = gd.closest('.output');\nif (outputEl) {{\n    x.observe(outputEl, {childList: true});\n}}\n\n                        })                };                });            </script>        </div>"
     },
     "metadata": {},
     "output_type": "display_data"
    }
   ],
   "source": [
    "def create_plot(clusters: DBSCAN, projections: np.array, summery_list: list[str]) -> None:\n",
    "    \"\"\"\n",
    "    Визуализация кластеров.\n",
    "    \n",
    "    :param clusters: Объект DBSCAN с кластерами.\n",
    "    :param projections: Проекция эмбедингов.\n",
    "    :param summery_list: Список заголовков кластеров.\n",
    "    \"\"\"\n",
    "    labels = [(label + 1, summery) for label, summery in zip(clusters.labels_, summery_list)]\n",
    "    fig = px.scatter(\n",
    "        projections,\n",
    "        x=0,\n",
    "        y=1,\n",
    "        marginal_y=\"violin\",\n",
    "        marginal_x=\"violin\",\n",
    "        trendline=\"ols\",\n",
    "        color=labels,\n",
    "        color_discrete_sequence=px.colors.qualitative.Plotly,\n",
    "        labels={'color': 'Clusters'},\n",
    "        hover_data={'text': data},\n",
    "    )\n",
    "    fig.show()\n",
    "\n",
    "\n",
    "create_plot(clusters, projection, clusters_summery)"
   ],
   "metadata": {
    "collapsed": false,
    "ExecuteTime": {
     "end_time": "2024-04-11T00:04:51.580901Z",
     "start_time": "2024-04-11T00:04:51.576924Z"
    }
   },
   "id": "9d7fb601dd93d52d"
  }
 ],
 "metadata": {
  "kernelspec": {
   "display_name": "Python 3",
   "language": "python",
   "name": "python3"
  },
  "language_info": {
   "codemirror_mode": {
    "name": "ipython",
    "version": 2
   },
   "file_extension": ".py",
   "mimetype": "text/x-python",
   "name": "python",
   "nbconvert_exporter": "python",
   "pygments_lexer": "ipython2",
   "version": "2.7.6"
  }
 },
 "nbformat": 4,
 "nbformat_minor": 5
}
